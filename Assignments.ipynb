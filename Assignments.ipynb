{
 "cells": [
  {
   "cell_type": "markdown",
   "metadata": {},
   "source": [
    "## DISCUSSION - 1\n",
    "\n",
    "You are a solutions architect who is working with a customer, a startup travel company, to design solutions on AWS to meet their business needs. The startup has a travel website that helps users search for deals on flights and hotels based on data that the user inputs on the website. Currently, the code for the startup’s application has been written and they want to host a web backend for one of their APIs, which is used for making queries against their data. This web backend must accept requests from external clients that make HTTPS calls. The clients will make GET requests from the frontend. These requests will require complex Structured Query Language (SQL) queries against the data. The customer plans to use a relational database, such as MySQL, to store this data. This customer also wants to use serverless technologies when possible.\n",
    "\n",
    "Write a few paragraphs that answer the following questions:\n",
    "\n",
    "What components are needed to host a web backend on AWS? (For example: compute service, database service, or others. )\n",
    "\n",
    "What AWS services would you consider using to build this solution?\n",
    "\n",
    "What follow-up questions would you ask this customer to get more information about their requirements so that you could better determine which services to choose? "
   ]
  },
  {
   "cell_type": "markdown",
   "metadata": {},
   "source": [
    "Compute Service: AWS Fargate\n",
    "Database Service: AWS Aurora DB (MYSQL)\n",
    "\n",
    "\n"
   ]
  },
  {
   "cell_type": "markdown",
   "metadata": {},
   "source": [
    "# DISCUSSION - 2\n",
    "\n",
    "You are a solutions architect who is working with a customer to design solutions on AWS to meet their business needs. Your customer wants to create a solution for ingesting data into a data lake on AWS. This data lake must be scalable and highly available. It must also be able to store both structured and unstructured data in the same storage location. After the data is stored, it will need to be transformed into different formats so that it can be used for analytics and to derive insights. The customer wants to store raw data without any modification, and they also want to store processed data in a separate location. \n",
    "\n",
    "Write a few paragraphs that describe which AWS services you might use for this architecture. Define the scope of each service, and explain how they work together to form a solution to solve the customer’s business need."
   ]
  },
  {
   "cell_type": "markdown",
   "metadata": {},
   "source": [
    "## Review the architecture\n",
    "<img src=\"https://d3c33hcgiwev3.cloudfront.net/imageAssetProxy.v1/3hHmlNzcRnmX7sDH92RmWw_ea342a10125c40dc9fb17d663fad39f1_Screen-Shot-2022-10-03-at-1.40.14-PM.png?expiry=1669852800000&hmac=9X7vX9DXCVZXS1y0KEAAun-z6-b7c01iRZQFwk_e9K0\" />"
   ]
  },
  {
   "cell_type": "markdown",
   "metadata": {},
   "source": [
    "## Reflecting on AWS Best Practices\n",
    "\n",
    "Write a few paragraphs that answer the following questions:\n",
    "\n",
    "What are the benefits of using multiple AWS accounts to run workloads?\n",
    "\n",
    "What are some common patterns for organizing resources in AWS accounts?\n",
    "\n",
    "What is the benefit of using AWS Identity and Access Management (IAM) roles for authenticating into AWS accounts?"
   ]
  },
  {
   "cell_type": "markdown",
   "metadata": {},
   "source": [
    "## Consider this Scenario\n",
    "You are a consultant who is working with a customer that wants to use AWS to meet their business needs. This customer has multiple AWS accounts, but they want to better control the permissions scope of their accounts. You decide to recommend AWS Organizations for that task, with the help of service control policies (SCPs). \n",
    "\n",
    "In a few sentences, explain how SCPs are used to define permissions and how this can help an AWS customer follow best practices. "
   ]
  },
  {
   "cell_type": "markdown",
   "metadata": {},
   "source": [
    "## Peer-graded Assignment: Capstone Project\n",
    "\n",
    "It’s time to put together everything you learned!\n",
    "\n",
    "As part of this project, you will create a high-level architecture diagram that uses AWS service icons and arrows to depict an AWS solution for the given scenario. Create your diagram by using a tool like diagrams.net, or you can select a different tool by from the AWS Architecture Icons page by scrolling to the Drawing and diagramming tools section.\n",
    "\n",
    "Scenario: You are working for a customer that runs their workloads on premises. Your customer has two workloads:\n",
    "\n",
    "A three-tier architecture composed of a frontend (HTML, CSS, JavaScript), backend (Apache Web Server and a Java application), and database (MySQL). The three-tier application hosts a dynamic website that accepts user traffic from the internet.\n",
    "\n",
    "A data analytics workload that runs Apache Hadoop. The analytics workload analyzes a massive amount of data that stored on premises and it also uses visualization tools to derive insights.\n",
    "\n",
    "These components are currently running in the data center on physical servers. Currently, if a power outage occurred in the data center, all systems would be brought offline. Because of this issue (in addition to other benefits of the cloud), your customer wants to migrate all components to the cloud and, when possible, use AWS services to replace on-premises components.\n",
    "\n",
    "Review criteria\n",
    "\n",
    "Grading: Students will get 2 points for each of the following items, totaling 8 points:\n",
    "\n",
    "Does the submission include an architecture diagram?\n",
    "\n",
    "Does the submission include a written explanation?\n",
    "\n",
    "Do the diagram and the written explanation include the solution for both the three-tier application and the data analytics solution?\n",
    "\n",
    "Does the written explanation include a justification for the specific approach they took for the migration? (For example, going cloud native compared to lifting and shifting.) \n",
    "\n",
    "Assignment Instructions\n",
    "\n",
    "Instructions: You have been tasked with designing a solution that uses AWS services to decouple the application layers (frontend, backend, and database), and that hosts both the application and the data analytics workload in the cloud. You can use managed services and advocate for refactoring the code to take advantage of cloud-native technologies, or you can do a lift and shift and advocate for minimal refactoring. Also, the data analytics solution currently runs on Hadoop and you have a requirement to spin up an Amazon EMR cluster for it. However, it’s up to you to choose which AWS services you want to use for the ingestion, storage, and visualization of data.\n",
    "\n",
    "Whichever architecture you choose to create, write an explanation that details how the solution works and why you chose to use the services that you selected. Also, create an architecture diagram that depicts how both solutions will be hosted on AWS. \n",
    "\n",
    "Submit both the diagram and your explanation for peer review.\n"
   ]
  },
  {
   "cell_type": "markdown",
   "metadata": {},
   "source": []
  }
 ],
 "metadata": {
  "kernelspec": {
   "display_name": "Python 3.8.8 ('base')",
   "language": "python",
   "name": "python3"
  },
  "language_info": {
   "codemirror_mode": {
    "name": "ipython",
    "version": 3
   },
   "file_extension": ".py",
   "mimetype": "text/x-python",
   "name": "python",
   "nbconvert_exporter": "python",
   "pygments_lexer": "ipython3",
   "version": "3.8.8"
  },
  "orig_nbformat": 4,
  "vscode": {
   "interpreter": {
    "hash": "47b75fb8d8aa71c612710195ff4b16aa9497d5554f8641a297ce0b115b33ab61"
   }
  }
 },
 "nbformat": 4,
 "nbformat_minor": 2
}
